{
 "cells": [
  {
   "cell_type": "code",
   "execution_count": 197,
   "metadata": {},
   "outputs": [],
   "source": [
    "import pandas as pd"
   ]
  },
  {
   "cell_type": "code",
   "execution_count": 198,
   "metadata": {},
   "outputs": [],
   "source": [
    "df = pd.read_csv(\"AAPL.csv\")"
   ]
  },
  {
   "cell_type": "code",
   "execution_count": 199,
   "metadata": {},
   "outputs": [
    {
     "data": {
      "text/html": [
       "<div>\n",
       "<style scoped>\n",
       "    .dataframe tbody tr th:only-of-type {\n",
       "        vertical-align: middle;\n",
       "    }\n",
       "\n",
       "    .dataframe tbody tr th {\n",
       "        vertical-align: top;\n",
       "    }\n",
       "\n",
       "    .dataframe thead th {\n",
       "        text-align: right;\n",
       "    }\n",
       "</style>\n",
       "<table border=\"1\" class=\"dataframe\">\n",
       "  <thead>\n",
       "    <tr style=\"text-align: right;\">\n",
       "      <th></th>\n",
       "      <th>symbol</th>\n",
       "      <th>date</th>\n",
       "      <th>close</th>\n",
       "      <th>high</th>\n",
       "      <th>low</th>\n",
       "      <th>open</th>\n",
       "      <th>volume</th>\n",
       "      <th>adjClose</th>\n",
       "      <th>adjHigh</th>\n",
       "      <th>adjLow</th>\n",
       "      <th>adjOpen</th>\n",
       "      <th>adjVolume</th>\n",
       "      <th>divCash</th>\n",
       "      <th>splitFactor</th>\n",
       "    </tr>\n",
       "  </thead>\n",
       "  <tbody>\n",
       "    <tr>\n",
       "      <th>0</th>\n",
       "      <td>AAPL</td>\n",
       "      <td>2015-10-28 00:00:00+00:00</td>\n",
       "      <td>119.27</td>\n",
       "      <td>119.30</td>\n",
       "      <td>116.06</td>\n",
       "      <td>116.93</td>\n",
       "      <td>85551352</td>\n",
       "      <td>27.550799</td>\n",
       "      <td>27.557729</td>\n",
       "      <td>26.809305</td>\n",
       "      <td>27.010271</td>\n",
       "      <td>342205408</td>\n",
       "      <td>0.0</td>\n",
       "      <td>1.0</td>\n",
       "    </tr>\n",
       "    <tr>\n",
       "      <th>1</th>\n",
       "      <td>AAPL</td>\n",
       "      <td>2015-10-29 00:00:00+00:00</td>\n",
       "      <td>120.53</td>\n",
       "      <td>120.69</td>\n",
       "      <td>118.27</td>\n",
       "      <td>118.70</td>\n",
       "      <td>51227334</td>\n",
       "      <td>27.841853</td>\n",
       "      <td>27.878813</td>\n",
       "      <td>27.319804</td>\n",
       "      <td>27.419132</td>\n",
       "      <td>204909336</td>\n",
       "      <td>0.0</td>\n",
       "      <td>1.0</td>\n",
       "    </tr>\n",
       "    <tr>\n",
       "      <th>2</th>\n",
       "      <td>AAPL</td>\n",
       "      <td>2015-10-30 00:00:00+00:00</td>\n",
       "      <td>119.50</td>\n",
       "      <td>121.22</td>\n",
       "      <td>119.45</td>\n",
       "      <td>120.99</td>\n",
       "      <td>49365254</td>\n",
       "      <td>27.603928</td>\n",
       "      <td>28.001240</td>\n",
       "      <td>27.592378</td>\n",
       "      <td>27.948111</td>\n",
       "      <td>197461016</td>\n",
       "      <td>0.0</td>\n",
       "      <td>1.0</td>\n",
       "    </tr>\n",
       "    <tr>\n",
       "      <th>3</th>\n",
       "      <td>AAPL</td>\n",
       "      <td>2015-11-02 00:00:00+00:00</td>\n",
       "      <td>121.18</td>\n",
       "      <td>121.36</td>\n",
       "      <td>119.61</td>\n",
       "      <td>119.87</td>\n",
       "      <td>32203267</td>\n",
       "      <td>27.992000</td>\n",
       "      <td>28.033579</td>\n",
       "      <td>27.629338</td>\n",
       "      <td>27.689396</td>\n",
       "      <td>128813068</td>\n",
       "      <td>0.0</td>\n",
       "      <td>1.0</td>\n",
       "    </tr>\n",
       "    <tr>\n",
       "      <th>4</th>\n",
       "      <td>AAPL</td>\n",
       "      <td>2015-11-03 00:00:00+00:00</td>\n",
       "      <td>122.57</td>\n",
       "      <td>123.49</td>\n",
       "      <td>120.70</td>\n",
       "      <td>120.79</td>\n",
       "      <td>45518976</td>\n",
       "      <td>28.313084</td>\n",
       "      <td>28.525599</td>\n",
       "      <td>27.881122</td>\n",
       "      <td>27.901912</td>\n",
       "      <td>182075904</td>\n",
       "      <td>0.0</td>\n",
       "      <td>1.0</td>\n",
       "    </tr>\n",
       "  </tbody>\n",
       "</table>\n",
       "</div>"
      ],
      "text/plain": [
       "  symbol                       date   close    high     low    open    volume  \\\n",
       "0   AAPL  2015-10-28 00:00:00+00:00  119.27  119.30  116.06  116.93  85551352   \n",
       "1   AAPL  2015-10-29 00:00:00+00:00  120.53  120.69  118.27  118.70  51227334   \n",
       "2   AAPL  2015-10-30 00:00:00+00:00  119.50  121.22  119.45  120.99  49365254   \n",
       "3   AAPL  2015-11-02 00:00:00+00:00  121.18  121.36  119.61  119.87  32203267   \n",
       "4   AAPL  2015-11-03 00:00:00+00:00  122.57  123.49  120.70  120.79  45518976   \n",
       "\n",
       "    adjClose    adjHigh     adjLow    adjOpen  adjVolume  divCash  splitFactor  \n",
       "0  27.550799  27.557729  26.809305  27.010271  342205408      0.0          1.0  \n",
       "1  27.841853  27.878813  27.319804  27.419132  204909336      0.0          1.0  \n",
       "2  27.603928  28.001240  27.592378  27.948111  197461016      0.0          1.0  \n",
       "3  27.992000  28.033579  27.629338  27.689396  128813068      0.0          1.0  \n",
       "4  28.313084  28.525599  27.881122  27.901912  182075904      0.0          1.0  "
      ]
     },
     "execution_count": 199,
     "metadata": {},
     "output_type": "execute_result"
    }
   ],
   "source": [
    "df.head()"
   ]
  },
  {
   "cell_type": "code",
   "execution_count": 200,
   "metadata": {},
   "outputs": [
    {
     "data": {
      "text/html": [
       "<div>\n",
       "<style scoped>\n",
       "    .dataframe tbody tr th:only-of-type {\n",
       "        vertical-align: middle;\n",
       "    }\n",
       "\n",
       "    .dataframe tbody tr th {\n",
       "        vertical-align: top;\n",
       "    }\n",
       "\n",
       "    .dataframe thead th {\n",
       "        text-align: right;\n",
       "    }\n",
       "</style>\n",
       "<table border=\"1\" class=\"dataframe\">\n",
       "  <thead>\n",
       "    <tr style=\"text-align: right;\">\n",
       "      <th></th>\n",
       "      <th>symbol</th>\n",
       "      <th>date</th>\n",
       "      <th>close</th>\n",
       "      <th>high</th>\n",
       "      <th>low</th>\n",
       "      <th>open</th>\n",
       "      <th>volume</th>\n",
       "      <th>adjClose</th>\n",
       "      <th>adjHigh</th>\n",
       "      <th>adjLow</th>\n",
       "      <th>adjOpen</th>\n",
       "      <th>adjVolume</th>\n",
       "      <th>divCash</th>\n",
       "      <th>splitFactor</th>\n",
       "    </tr>\n",
       "  </thead>\n",
       "  <tbody>\n",
       "    <tr>\n",
       "      <th>1252</th>\n",
       "      <td>AAPL</td>\n",
       "      <td>2020-10-19 00:00:00+00:00</td>\n",
       "      <td>115.98</td>\n",
       "      <td>120.419</td>\n",
       "      <td>115.66</td>\n",
       "      <td>119.96</td>\n",
       "      <td>120639337</td>\n",
       "      <td>115.98</td>\n",
       "      <td>120.419</td>\n",
       "      <td>115.66</td>\n",
       "      <td>119.96</td>\n",
       "      <td>120639337</td>\n",
       "      <td>0.0</td>\n",
       "      <td>1.0</td>\n",
       "    </tr>\n",
       "    <tr>\n",
       "      <th>1253</th>\n",
       "      <td>AAPL</td>\n",
       "      <td>2020-10-20 00:00:00+00:00</td>\n",
       "      <td>117.51</td>\n",
       "      <td>118.980</td>\n",
       "      <td>115.63</td>\n",
       "      <td>116.20</td>\n",
       "      <td>124423728</td>\n",
       "      <td>117.51</td>\n",
       "      <td>118.980</td>\n",
       "      <td>115.63</td>\n",
       "      <td>116.20</td>\n",
       "      <td>124423728</td>\n",
       "      <td>0.0</td>\n",
       "      <td>1.0</td>\n",
       "    </tr>\n",
       "    <tr>\n",
       "      <th>1254</th>\n",
       "      <td>AAPL</td>\n",
       "      <td>2020-10-21 00:00:00+00:00</td>\n",
       "      <td>116.87</td>\n",
       "      <td>118.705</td>\n",
       "      <td>116.45</td>\n",
       "      <td>116.67</td>\n",
       "      <td>89945980</td>\n",
       "      <td>116.87</td>\n",
       "      <td>118.705</td>\n",
       "      <td>116.45</td>\n",
       "      <td>116.67</td>\n",
       "      <td>89945980</td>\n",
       "      <td>0.0</td>\n",
       "      <td>1.0</td>\n",
       "    </tr>\n",
       "    <tr>\n",
       "      <th>1255</th>\n",
       "      <td>AAPL</td>\n",
       "      <td>2020-10-22 00:00:00+00:00</td>\n",
       "      <td>115.75</td>\n",
       "      <td>118.040</td>\n",
       "      <td>114.59</td>\n",
       "      <td>117.45</td>\n",
       "      <td>101987954</td>\n",
       "      <td>115.75</td>\n",
       "      <td>118.040</td>\n",
       "      <td>114.59</td>\n",
       "      <td>117.45</td>\n",
       "      <td>101987954</td>\n",
       "      <td>0.0</td>\n",
       "      <td>1.0</td>\n",
       "    </tr>\n",
       "    <tr>\n",
       "      <th>1256</th>\n",
       "      <td>AAPL</td>\n",
       "      <td>2020-10-23 00:00:00+00:00</td>\n",
       "      <td>115.04</td>\n",
       "      <td>116.550</td>\n",
       "      <td>114.28</td>\n",
       "      <td>116.39</td>\n",
       "      <td>82572645</td>\n",
       "      <td>115.04</td>\n",
       "      <td>116.550</td>\n",
       "      <td>114.28</td>\n",
       "      <td>116.39</td>\n",
       "      <td>82572645</td>\n",
       "      <td>0.0</td>\n",
       "      <td>1.0</td>\n",
       "    </tr>\n",
       "  </tbody>\n",
       "</table>\n",
       "</div>"
      ],
      "text/plain": [
       "     symbol                       date   close     high     low    open  \\\n",
       "1252   AAPL  2020-10-19 00:00:00+00:00  115.98  120.419  115.66  119.96   \n",
       "1253   AAPL  2020-10-20 00:00:00+00:00  117.51  118.980  115.63  116.20   \n",
       "1254   AAPL  2020-10-21 00:00:00+00:00  116.87  118.705  116.45  116.67   \n",
       "1255   AAPL  2020-10-22 00:00:00+00:00  115.75  118.040  114.59  117.45   \n",
       "1256   AAPL  2020-10-23 00:00:00+00:00  115.04  116.550  114.28  116.39   \n",
       "\n",
       "         volume  adjClose  adjHigh  adjLow  adjOpen  adjVolume  divCash  \\\n",
       "1252  120639337    115.98  120.419  115.66   119.96  120639337      0.0   \n",
       "1253  124423728    117.51  118.980  115.63   116.20  124423728      0.0   \n",
       "1254   89945980    116.87  118.705  116.45   116.67   89945980      0.0   \n",
       "1255  101987954    115.75  118.040  114.59   117.45  101987954      0.0   \n",
       "1256   82572645    115.04  116.550  114.28   116.39   82572645      0.0   \n",
       "\n",
       "      splitFactor  \n",
       "1252          1.0  \n",
       "1253          1.0  \n",
       "1254          1.0  \n",
       "1255          1.0  \n",
       "1256          1.0  "
      ]
     },
     "execution_count": 200,
     "metadata": {},
     "output_type": "execute_result"
    }
   ],
   "source": [
    "df.tail()"
   ]
  },
  {
   "cell_type": "code",
   "execution_count": 201,
   "metadata": {},
   "outputs": [],
   "source": [
    "df1=df.reset_index()['close']"
   ]
  },
  {
   "cell_type": "code",
   "execution_count": 202,
   "metadata": {},
   "outputs": [
    {
     "data": {
      "text/plain": [
       "0    119.27\n",
       "1    120.53\n",
       "2    119.50\n",
       "3    121.18\n",
       "4    122.57\n",
       "Name: close, dtype: float64"
      ]
     },
     "execution_count": 202,
     "metadata": {},
     "output_type": "execute_result"
    }
   ],
   "source": [
    "df1.head()"
   ]
  },
  {
   "cell_type": "code",
   "execution_count": 203,
   "metadata": {},
   "outputs": [
    {
     "data": {
      "text/plain": [
       "[<matplotlib.lines.Line2D at 0x1c630f736c8>]"
      ]
     },
     "execution_count": 203,
     "metadata": {},
     "output_type": "execute_result"
    },
    {
     "data": {
      "image/png": "[encoded data removed]",
      "text/plain": [
       "<Figure size 432x288 with 1 Axes>"
      ]
     },
     "metadata": {
      "needs_background": "light"
     },
     "output_type": "display_data"
    }
   ],
   "source": [
    "import matplotlib.pyplot as plt\n",
    "plt.plot(df1)"
   ]
  },
  {
   "cell_type": "code",
   "execution_count": 204,
   "metadata": {},
   "outputs": [],
   "source": [
    "import numpy as np"
   ]
  },
  {
   "cell_type": "code",
   "execution_count": 205,
   "metadata": {},
   "outputs": [],
   "source": [
    "from sklearn.preprocessing import MinMaxScaler\n",
    "scaler=MinMaxScaler(feature_range=(0,1))\n",
    "df1=scaler.fit_transform(np.array(df1).reshape(-1,1))"
   ]
  },
  {
   "cell_type": "code",
   "execution_count": 206,
   "metadata": {},
   "outputs": [
    {
     "data": {
      "text/plain": [
       "(1257, 1)"
      ]
     },
     "execution_count": 206,
     "metadata": {},
     "output_type": "execute_result"
    }
   ],
   "source": [
    "df1.shape"
   ]
  },
  {
   "cell_type": "code",
   "execution_count": 207,
   "metadata": {},
   "outputs": [
    {
     "data": {
      "text/plain": [
       "array([[0.06958509],\n",
       "       [0.07261575],\n",
       "       [0.0701383 ],\n",
       "       ...,\n",
       "       [0.06381239],\n",
       "       [0.06111846],\n",
       "       [0.0594107 ]])"
      ]
     },
     "execution_count": 207,
     "metadata": {},
     "output_type": "execute_result"
    }
   ],
   "source": [
    "df1"
   ]
  },
  {
   "cell_type": "code",
   "execution_count": 208,
   "metadata": {},
   "outputs": [],
   "source": [
    "##splitting dataset into train and test split\n",
    "training_size=int(len(df1)*0.65)\n",
    "test_size=len(df1)-training_size\n",
    "train_data,test_data=df1[0:training_size,:],df1[training_size:len(df1),:1]"
   ]
  },
  {
   "cell_type": "code",
   "execution_count": 209,
   "metadata": {},
   "outputs": [
    {
     "data": {
      "text/plain": [
       "(817, 1)"
      ]
     },
     "execution_count": 209,
     "metadata": {},
     "output_type": "execute_result"
    }
   ],
   "source": [
    "train_data.shape"
   ]
  },
  {
   "cell_type": "code",
   "execution_count": 210,
   "metadata": {},
   "outputs": [
    {
     "data": {
      "text/plain": [
       "(440, 1)"
      ]
     },
     "execution_count": 210,
     "metadata": {},
     "output_type": "execute_result"
    }
   ],
   "source": [
    "test_data.shape"
   ]
  },
  {
   "cell_type": "code",
   "execution_count": 211,
   "metadata": {},
   "outputs": [],
   "source": [
    "# convert an array of values into a dataset matrix\n",
    "def create_dataset(dataset, time_step=1):\n",
    "\tdataX, dataY = [], []\n",
    "\tfor i in range(len(dataset)-time_step-1):\n",
    "\t\ta = dataset[i:(i+time_step), 0]   ###i=0, 0,1,2,3-----99   100 \n",
    "\t\tdataX.append(a)\n",
    "\t\tdataY.append(dataset[i + time_step, 0])\n",
    "\treturn np.array(dataX), np.array(dataY)"
   ]
  },
  {
   "cell_type": "code",
   "execution_count": 212,
   "metadata": {},
   "outputs": [],
   "source": [
    "time_step = 100\n",
    "X_train, y_train = create_dataset(train_data, time_step)\n",
    "X_test, y_test = create_dataset(test_data, time_step)"
   ]
  },
  {
   "cell_type": "code",
   "execution_count": 213,
   "metadata": {},
   "outputs": [
    {
     "data": {
      "text/plain": [
       "((716, 100), (716,))"
      ]
     },
     "execution_count": 213,
     "metadata": {},
     "output_type": "execute_result"
    }
   ],
   "source": [
    "X_train.shape,y_train.shape"
   ]
  },
  {
   "cell_type": "code",
   "execution_count": 214,
   "metadata": {},
   "outputs": [
    {
     "data": {
      "text/plain": [
       "((339, 100), (339,))"
      ]
     },
     "execution_count": 214,
     "metadata": {},
     "output_type": "execute_result"
    }
   ],
   "source": [
    "X_test.shape,y_test.shape"
   ]
  },
  {
   "cell_type": "code",
   "execution_count": 215,
   "metadata": {},
   "outputs": [],
   "source": [
    "# reshape input to be [samples, time steps, features] which is required for LSTM\n",
    "X_train =X_train.reshape(X_train.shape[0],X_train.shape[1] , 1)\n",
    "X_test = X_test.reshape(X_test.shape[0],X_test.shape[1] , 1)"
   ]
  },
  {
   "cell_type": "code",
   "execution_count": 216,
   "metadata": {},
   "outputs": [],
   "source": [
    "from tensorflow.keras.models import Sequential\n",
    "from tensorflow.keras.layers import Dense\n",
    "from tensorflow.keras.layers import LSTM"
   ]
  },
  {
   "cell_type": "code",
   "execution_count": 217,
   "metadata": {},
   "outputs": [],
   "source": [
    "model=Sequential()\n",
    "model.add(LSTM(50,return_sequences=True,input_shape=(100,1)))\n",
    "model.add(LSTM(50,return_sequences=True))\n",
    "model.add(LSTM(50))\n",
    "model.add(Dense(1))\n",
    "model.compile(loss='mean_squared_error',optimizer='adam')"
   ]
  },
  {
   "cell_type": "code",
   "execution_count": 218,
   "metadata": {},
   "outputs": [
    {
     "name": "stdout",
     "output_type": "stream",
     "text": [
      "Model: \"sequential_3\"\n",
      "_________________________________________________________________\n",
      "Layer (type)                 Output Shape              Param #   \n",
      "=================================================================\n",
      "lstm_9 (LSTM)                (None, 100, 50)           10400     \n",
      "_________________________________________________________________\n",
      "lstm_10 (LSTM)               (None, 100, 50)           20200     \n",
      "_________________________________________________________________\n",
      "lstm_11 (LSTM)               (None, 50)                20200     \n",
      "_________________________________________________________________\n",
      "dense_3 (Dense)              (None, 1)                 51        \n",
      "=================================================================\n",
      "Total params: 50,851\n",
      "Trainable params: 50,851\n",
      "Non-trainable params: 0\n",
      "_________________________________________________________________\n"
     ]
    }
   ],
   "source": [
    "model.summary()"
   ]
  },
  {
   "cell_type": "code",
   "execution_count": 219,
   "metadata": {},
   "outputs": [],
   "source": [
    "#model.fit(X_train,y_train,validation_data=(X_test,y_test),epochs=100,batch_size=64,verbose=1)"
   ]
  },
  {
   "cell_type": "code",
   "execution_count": 220,
   "metadata": {},
   "outputs": [],
   "source": [
    "#from keras.models import load_model\n",
    "#model.save(\"lstmStock1.h5\")"
   ]
  },
  {
   "cell_type": "code",
   "execution_count": 221,
   "metadata": {},
   "outputs": [],
   "source": [
    "import tensorflow as tf\n",
    "model = tf.keras.models.load_model(\"lstmStock1.h5\")"
   ]
  },
  {
   "cell_type": "code",
   "execution_count": 222,
   "metadata": {},
   "outputs": [],
   "source": [
    "### Lets Do the prediction and check performance metrics\n",
    "train_predict=model.predict(X_train)\n",
    "test_predict=model.predict(X_test)"
   ]
  },
  {
   "cell_type": "code",
   "execution_count": 223,
   "metadata": {},
   "outputs": [],
   "source": [
    "##Transformback to original form\n",
    "train_predict=scaler.inverse_transform(train_predict)\n",
    "test_predict=scaler.inverse_transform(test_predict)"
   ]
  },
  {
   "cell_type": "code",
   "execution_count": 224,
   "metadata": {},
   "outputs": [
    {
     "data": {
      "text/plain": [
       "156.15465321442372"
      ]
     },
     "execution_count": 224,
     "metadata": {},
     "output_type": "execute_result"
    }
   ],
   "source": [
    "### Calculate RMSE performance metrics\n",
    "import math\n",
    "from sklearn.metrics import mean_squared_error\n",
    "math.sqrt(mean_squared_error(y_train,train_predict))"
   ]
  },
  {
   "cell_type": "code",
   "execution_count": 225,
   "metadata": {},
   "outputs": [
    {
     "data": {
      "text/plain": [
       "275.2808051877879"
      ]
     },
     "execution_count": 225,
     "metadata": {},
     "output_type": "execute_result"
    }
   ],
   "source": [
    "## Test Data RMSE\n",
    "math.sqrt(mean_squared_error(y_test,test_predict))"
   ]
  },
  {
   "cell_type": "code",
   "execution_count": 226,
   "metadata": {},
   "outputs": [
    {
     "data": {
      "text/plain": [
       "(1257, 1)"
      ]
     },
     "execution_count": 226,
     "metadata": {},
     "output_type": "execute_result"
    }
   ],
   "source": [
    "df1.shape"
   ]
  },
  {
   "cell_type": "code",
   "execution_count": 227,
   "metadata": {},
   "outputs": [
    {
     "data": {
      "image/png": "[encoded data removed]",
      "text/plain": [
       "<Figure size 432x288 with 1 Axes>"
      ]
     },
     "metadata": {
      "needs_background": "light"
     },
     "output_type": "display_data"
    }
   ],
   "source": [
    "### Plotting \n",
    "# shift train predictions for plotting\n",
    "look_back=100\n",
    "trainPredictPlot = np.empty_like(df1)\n",
    "trainPredictPlot[:, :] = np.nan\n",
    "trainPredictPlot[look_back:len(train_predict)+look_back, :] = train_predict\n",
    "# shift test predictions for plotting\n",
    "testPredictPlot = np.empty_like(df1)\n",
    "testPredictPlot[:, :] = np.nan\n",
    "testPredictPlot[len(train_predict)+(look_back*2)+1:len(df1)-1, :] = test_predict\n",
    "# plot baseline and predictions\n",
    "plt.plot(scaler.inverse_transform(df1))\n",
    "plt.plot(trainPredictPlot)\n",
    "plt.plot(testPredictPlot)\n",
    "plt.show()"
   ]
  },
  {
   "cell_type": "code",
   "execution_count": 228,
   "metadata": {},
   "outputs": [
    {
     "data": {
      "text/plain": [
       "440"
      ]
     },
     "execution_count": 228,
     "metadata": {},
     "output_type": "execute_result"
    }
   ],
   "source": [
    "len(test_data)"
   ]
  },
  {
   "cell_type": "code",
   "execution_count": 229,
   "metadata": {},
   "outputs": [
    {
     "data": {
      "text/plain": [
       "(440, 1)"
      ]
     },
     "execution_count": 229,
     "metadata": {},
     "output_type": "execute_result"
    }
   ],
   "source": [
    "test_data.shape"
   ]
  },
  {
   "cell_type": "code",
   "execution_count": 230,
   "metadata": {},
   "outputs": [
    {
     "data": {
      "text/plain": [
       "(1, 100)"
      ]
     },
     "execution_count": 230,
     "metadata": {},
     "output_type": "execute_result"
    }
   ],
   "source": [
    "x_input=test_data[340:].reshape(1,-1)\n",
    "x_input.shape"
   ]
  },
  {
   "cell_type": "code",
   "execution_count": 231,
   "metadata": {},
   "outputs": [],
   "source": [
    "temp_input=list(x_input)"
   ]
  },
  {
   "cell_type": "code",
   "execution_count": 232,
   "metadata": {},
   "outputs": [
    {
     "data": {
      "text/plain": [
       "100"
      ]
     },
     "execution_count": 232,
     "metadata": {},
     "output_type": "execute_result"
    }
   ],
   "source": [
    "len(temp_input[0])"
   ]
  },
  {
   "cell_type": "code",
   "execution_count": 233,
   "metadata": {},
   "outputs": [],
   "source": [
    "temp_input=temp_input[0].tolist()"
   ]
  },
  {
   "cell_type": "code",
   "execution_count": 234,
   "metadata": {},
   "outputs": [
    {
     "data": {
      "text/plain": [
       "100"
      ]
     },
     "execution_count": 234,
     "metadata": {},
     "output_type": "execute_result"
    }
   ],
   "source": [
    "len(temp_input)"
   ]
  },
  {
   "cell_type": "code",
   "execution_count": 235,
   "metadata": {},
   "outputs": [
    {
     "name": "stdout",
     "output_type": "stream",
     "text": [
      "[0.03919309]\n",
      "101\n",
      "1 day input [0.58006013 0.5847745  0.61010222 0.63138906 0.59064342 0.59761876\n",
      " 0.60769693 0.62956103 0.62838244 0.62871918 0.62388455 0.64589296\n",
      " 0.6643175  0.64875526 0.66025256 0.63328924 0.65289236 0.66015634\n",
      " 0.65849669 0.65849669 0.68192423 0.6791341  0.70001203 0.7039567\n",
      " 0.70556825 0.70131088 0.71651233 0.72293446 0.711365   0.70948888\n",
      " 0.72901984 0.71595911 0.71858088 0.67598316 0.67377029 0.69488876\n",
      " 0.67990379 0.69710162 0.70816597 0.80505111 0.83081179 0.83781118\n",
      " 0.8416356  0.87858088 0.85173782 0.86727601 0.83502105 0.86999399\n",
      " 0.88923632 0.88825015 0.8853638  0.89455201 0.89594708 0.92064943\n",
      " 0.97929044 0.99360192 0.98366807 1.         0.98544799 0.9834997\n",
      " 0.09308479 0.10544799 0.09876127 0.07345761 0.07365003 0.05407096\n",
      " 0.06489477 0.0556825  0.05209862 0.06016837 0.06061335 0.0524113\n",
      " 0.04810583 0.03968731 0.04748046 0.05164161 0.04036079 0.04300661\n",
      " 0.0527721  0.05921828 0.05712568 0.06126278 0.06361996 0.05455201\n",
      " 0.06292243 0.05488876 0.05950692 0.05924233 0.06405292 0.08192423\n",
      " 0.07398677 0.07420325 0.07304871 0.06898376 0.06167168 0.06535177\n",
      " 0.06381239 0.06111846 0.0594107  0.03919309]\n",
      "1 day output [[0.03803672]]\n",
      "2 day input [0.5847745  0.61010222 0.63138906 0.59064342 0.59761876 0.60769693\n",
      " 0.62956103 0.62838244 0.62871918 0.62388455 0.64589296 0.6643175\n",
      " 0.64875526 0.66025256 0.63328924 0.65289236 0.66015634 0.65849669\n",
      " 0.65849669 0.68192423 0.6791341  0.70001203 0.7039567  0.70556825\n",
      " 0.70131088 0.71651233 0.72293446 0.711365   0.70948888 0.72901984\n",
      " 0.71595911 0.71858088 0.67598316 0.67377029 0.69488876 0.67990379\n",
      " 0.69710162 0.70816597 0.80505111 0.83081179 0.83781118 0.8416356\n",
      " 0.87858088 0.85173782 0.86727601 0.83502105 0.86999399 0.88923632\n",
      " 0.88825015 0.8853638  0.89455201 0.89594708 0.92064943 0.97929044\n",
      " 0.99360192 0.98366807 1.         0.98544799 0.9834997  0.09308479\n",
      " 0.10544799 0.09876127 0.07345761 0.07365003 0.05407096 0.06489477\n",
      " 0.0556825  0.05209862 0.06016837 0.06061335 0.0524113  0.04810583\n",
      " 0.03968731 0.04748046 0.05164161 0.04036079 0.04300661 0.0527721\n",
      " 0.05921828 0.05712568 0.06126278 0.06361996 0.05455201 0.06292243\n",
      " 0.05488876 0.05950692 0.05924233 0.06405292 0.08192423 0.07398677\n",
      " 0.07420325 0.07304871 0.06898376 0.06167168 0.06535177 0.06381239\n",
      " 0.06111846 0.0594107  0.03919309 0.03803672]\n",
      "2 day output [[0.0355174]]\n",
      "3 day input [0.61010222 0.63138906 0.59064342 0.59761876 0.60769693 0.62956103\n",
      " 0.62838244 0.62871918 0.62388455 0.64589296 0.6643175  0.64875526\n",
      " 0.66025256 0.63328924 0.65289236 0.66015634 0.65849669 0.65849669\n",
      " 0.68192423 0.6791341  0.70001203 0.7039567  0.70556825 0.70131088\n",
      " 0.71651233 0.72293446 0.711365   0.70948888 0.72901984 0.71595911\n",
      " 0.71858088 0.67598316 0.67377029 0.69488876 0.67990379 0.69710162\n",
      " 0.70816597 0.80505111 0.83081179 0.83781118 0.8416356  0.87858088\n",
      " 0.85173782 0.86727601 0.83502105 0.86999399 0.88923632 0.88825015\n",
      " 0.8853638  0.89455201 0.89594708 0.92064943 0.97929044 0.99360192\n",
      " 0.98366807 1.         0.98544799 0.9834997  0.09308479 0.10544799\n",
      " 0.09876127 0.07345761 0.07365003 0.05407096 0.06489477 0.0556825\n",
      " 0.05209862 0.06016837 0.06061335 0.0524113  0.04810583 0.03968731\n",
      " 0.04748046 0.05164161 0.04036079 0.04300661 0.0527721  0.05921828\n",
      " 0.05712568 0.06126278 0.06361996 0.05455201 0.06292243 0.05488876\n",
      " 0.05950692 0.05924233 0.06405292 0.08192423 0.07398677 0.07420325\n",
      " 0.07304871 0.06898376 0.06167168 0.06535177 0.06381239 0.06111846\n",
      " 0.0594107  0.03919309 0.03803672 0.0355174 ]\n",
      "3 day output [[0.0323243]]\n",
      "4 day input [0.63138906 0.59064342 0.59761876 0.60769693 0.62956103 0.62838244\n",
      " 0.62871918 0.62388455 0.64589296 0.6643175  0.64875526 0.66025256\n",
      " 0.63328924 0.65289236 0.66015634 0.65849669 0.65849669 0.68192423\n",
      " 0.6791341  0.70001203 0.7039567  0.70556825 0.70131088 0.71651233\n",
      " 0.72293446 0.711365   0.70948888 0.72901984 0.71595911 0.71858088\n",
      " 0.67598316 0.67377029 0.69488876 0.67990379 0.69710162 0.70816597\n",
      " 0.80505111 0.83081179 0.83781118 0.8416356  0.87858088 0.85173782\n",
      " 0.86727601 0.83502105 0.86999399 0.88923632 0.88825015 0.8853638\n",
      " 0.89455201 0.89594708 0.92064943 0.97929044 0.99360192 0.98366807\n",
      " 1.         0.98544799 0.9834997  0.09308479 0.10544799 0.09876127\n",
      " 0.07345761 0.07365003 0.05407096 0.06489477 0.0556825  0.05209862\n",
      " 0.06016837 0.06061335 0.0524113  0.04810583 0.03968731 0.04748046\n",
      " 0.05164161 0.04036079 0.04300661 0.0527721  0.05921828 0.05712568\n",
      " 0.06126278 0.06361996 0.05455201 0.06292243 0.05488876 0.05950692\n",
      " 0.05924233 0.06405292 0.08192423 0.07398677 0.07420325 0.07304871\n",
      " 0.06898376 0.06167168 0.06535177 0.06381239 0.06111846 0.0594107\n",
      " 0.03919309 0.03803672 0.0355174  0.0323243 ]\n",
      "4 day output [[0.02909302]]\n",
      "5 day input [0.59064342 0.59761876 0.60769693 0.62956103 0.62838244 0.62871918\n",
      " 0.62388455 0.64589296 0.6643175  0.64875526 0.66025256 0.63328924\n",
      " 0.65289236 0.66015634 0.65849669 0.65849669 0.68192423 0.6791341\n",
      " 0.70001203 0.7039567  0.70556825 0.70131088 0.71651233 0.72293446\n",
      " 0.711365   0.70948888 0.72901984 0.71595911 0.71858088 0.67598316\n",
      " 0.67377029 0.69488876 0.67990379 0.69710162 0.70816597 0.80505111\n",
      " 0.83081179 0.83781118 0.8416356  0.87858088 0.85173782 0.86727601\n",
      " 0.83502105 0.86999399 0.88923632 0.88825015 0.8853638  0.89455201\n",
      " 0.89594708 0.92064943 0.97929044 0.99360192 0.98366807 1.\n",
      " 0.98544799 0.9834997  0.09308479 0.10544799 0.09876127 0.07345761\n",
      " 0.07365003 0.05407096 0.06489477 0.0556825  0.05209862 0.06016837\n",
      " 0.06061335 0.0524113  0.04810583 0.03968731 0.04748046 0.05164161\n",
      " 0.04036079 0.04300661 0.0527721  0.05921828 0.05712568 0.06126278\n",
      " 0.06361996 0.05455201 0.06292243 0.05488876 0.05950692 0.05924233\n",
      " 0.06405292 0.08192423 0.07398677 0.07420325 0.07304871 0.06898376\n",
      " 0.06167168 0.06535177 0.06381239 0.06111846 0.0594107  0.03919309\n",
      " 0.03803672 0.0355174  0.0323243  0.02909302]\n",
      "5 day output [[0.02622699]]\n",
      "6 day input [0.59761876 0.60769693 0.62956103 0.62838244 0.62871918 0.62388455\n",
      " 0.64589296 0.6643175  0.64875526 0.66025256 0.63328924 0.65289236\n",
      " 0.66015634 0.65849669 0.65849669 0.68192423 0.6791341  0.70001203\n",
      " 0.7039567  0.70556825 0.70131088 0.71651233 0.72293446 0.711365\n",
      " 0.70948888 0.72901984 0.71595911 0.71858088 0.67598316 0.67377029\n",
      " 0.69488876 0.67990379 0.69710162 0.70816597 0.80505111 0.83081179\n",
      " 0.83781118 0.8416356  0.87858088 0.85173782 0.86727601 0.83502105\n",
      " 0.86999399 0.88923632 0.88825015 0.8853638  0.89455201 0.89594708\n",
      " 0.92064943 0.97929044 0.99360192 0.98366807 1.         0.98544799\n",
      " 0.9834997  0.09308479 0.10544799 0.09876127 0.07345761 0.07365003\n",
      " 0.05407096 0.06489477 0.0556825  0.05209862 0.06016837 0.06061335\n",
      " 0.0524113  0.04810583 0.03968731 0.04748046 0.05164161 0.04036079\n",
      " 0.04300661 0.0527721  0.05921828 0.05712568 0.06126278 0.06361996\n",
      " 0.05455201 0.06292243 0.05488876 0.05950692 0.05924233 0.06405292\n",
      " 0.08192423 0.07398677 0.07420325 0.07304871 0.06898376 0.06167168\n",
      " 0.06535177 0.06381239 0.06111846 0.0594107  0.03919309 0.03803672\n",
      " 0.0355174  0.0323243  0.02909302 0.02622699]\n",
      "6 day output [[0.02390753]]\n",
      "7 day input [0.60769693 0.62956103 0.62838244 0.62871918 0.62388455 0.64589296\n",
      " 0.6643175  0.64875526 0.66025256 0.63328924 0.65289236 0.66015634\n",
      " 0.65849669 0.65849669 0.68192423 0.6791341  0.70001203 0.7039567\n",
      " 0.70556825 0.70131088 0.71651233 0.72293446 0.711365   0.70948888\n",
      " 0.72901984 0.71595911 0.71858088 0.67598316 0.67377029 0.69488876\n",
      " 0.67990379 0.69710162 0.70816597 0.80505111 0.83081179 0.83781118\n",
      " 0.8416356  0.87858088 0.85173782 0.86727601 0.83502105 0.86999399\n",
      " 0.88923632 0.88825015 0.8853638  0.89455201 0.89594708 0.92064943\n",
      " 0.97929044 0.99360192 0.98366807 1.         0.98544799 0.9834997\n",
      " 0.09308479 0.10544799 0.09876127 0.07345761 0.07365003 0.05407096\n",
      " 0.06489477 0.0556825  0.05209862 0.06016837 0.06061335 0.0524113\n",
      " 0.04810583 0.03968731 0.04748046 0.05164161 0.04036079 0.04300661\n",
      " 0.0527721  0.05921828 0.05712568 0.06126278 0.06361996 0.05455201\n",
      " 0.06292243 0.05488876 0.05950692 0.05924233 0.06405292 0.08192423\n",
      " 0.07398677 0.07420325 0.07304871 0.06898376 0.06167168 0.06535177\n",
      " 0.06381239 0.06111846 0.0594107  0.03919309 0.03803672 0.0355174\n",
      " 0.0323243  0.02909302 0.02622699 0.02390753]\n",
      "7 day output [[0.0221875]]\n",
      "8 day input [0.62956103 0.62838244 0.62871918 0.62388455 0.64589296 0.6643175\n",
      " 0.64875526 0.66025256 0.63328924 0.65289236 0.66015634 0.65849669\n",
      " 0.65849669 0.68192423 0.6791341  0.70001203 0.7039567  0.70556825\n",
      " 0.70131088 0.71651233 0.72293446 0.711365   0.70948888 0.72901984\n",
      " 0.71595911 0.71858088 0.67598316 0.67377029 0.69488876 0.67990379\n",
      " 0.69710162 0.70816597 0.80505111 0.83081179 0.83781118 0.8416356\n",
      " 0.87858088 0.85173782 0.86727601 0.83502105 0.86999399 0.88923632\n",
      " 0.88825015 0.8853638  0.89455201 0.89594708 0.92064943 0.97929044\n",
      " 0.99360192 0.98366807 1.         0.98544799 0.9834997  0.09308479\n",
      " 0.10544799 0.09876127 0.07345761 0.07365003 0.05407096 0.06489477\n",
      " 0.0556825  0.05209862 0.06016837 0.06061335 0.0524113  0.04810583\n",
      " 0.03968731 0.04748046 0.05164161 0.04036079 0.04300661 0.0527721\n",
      " 0.05921828 0.05712568 0.06126278 0.06361996 0.05455201 0.06292243\n",
      " 0.05488876 0.05950692 0.05924233 0.06405292 0.08192423 0.07398677\n",
      " 0.07420325 0.07304871 0.06898376 0.06167168 0.06535177 0.06381239\n",
      " 0.06111846 0.0594107  0.03919309 0.03803672 0.0355174  0.0323243\n",
      " 0.02909302 0.02622699 0.02390753 0.0221875 ]\n"
     ]
    },
    {
     "name": "stdout",
     "output_type": "stream",
     "text": [
      "8 day output [[0.02102927]]\n",
      "9 day input [0.62838244 0.62871918 0.62388455 0.64589296 0.6643175  0.64875526\n",
      " 0.66025256 0.63328924 0.65289236 0.66015634 0.65849669 0.65849669\n",
      " 0.68192423 0.6791341  0.70001203 0.7039567  0.70556825 0.70131088\n",
      " 0.71651233 0.72293446 0.711365   0.70948888 0.72901984 0.71595911\n",
      " 0.71858088 0.67598316 0.67377029 0.69488876 0.67990379 0.69710162\n",
      " 0.70816597 0.80505111 0.83081179 0.83781118 0.8416356  0.87858088\n",
      " 0.85173782 0.86727601 0.83502105 0.86999399 0.88923632 0.88825015\n",
      " 0.8853638  0.89455201 0.89594708 0.92064943 0.97929044 0.99360192\n",
      " 0.98366807 1.         0.98544799 0.9834997  0.09308479 0.10544799\n",
      " 0.09876127 0.07345761 0.07365003 0.05407096 0.06489477 0.0556825\n",
      " 0.05209862 0.06016837 0.06061335 0.0524113  0.04810583 0.03968731\n",
      " 0.04748046 0.05164161 0.04036079 0.04300661 0.0527721  0.05921828\n",
      " 0.05712568 0.06126278 0.06361996 0.05455201 0.06292243 0.05488876\n",
      " 0.05950692 0.05924233 0.06405292 0.08192423 0.07398677 0.07420325\n",
      " 0.07304871 0.06898376 0.06167168 0.06535177 0.06381239 0.06111846\n",
      " 0.0594107  0.03919309 0.03803672 0.0355174  0.0323243  0.02909302\n",
      " 0.02622699 0.02390753 0.0221875  0.02102927]\n",
      "9 day output [[0.0203576]]\n",
      "10 day input [0.62871918 0.62388455 0.64589296 0.6643175  0.64875526 0.66025256\n",
      " 0.63328924 0.65289236 0.66015634 0.65849669 0.65849669 0.68192423\n",
      " 0.6791341  0.70001203 0.7039567  0.70556825 0.70131088 0.71651233\n",
      " 0.72293446 0.711365   0.70948888 0.72901984 0.71595911 0.71858088\n",
      " 0.67598316 0.67377029 0.69488876 0.67990379 0.69710162 0.70816597\n",
      " 0.80505111 0.83081179 0.83781118 0.8416356  0.87858088 0.85173782\n",
      " 0.86727601 0.83502105 0.86999399 0.88923632 0.88825015 0.8853638\n",
      " 0.89455201 0.89594708 0.92064943 0.97929044 0.99360192 0.98366807\n",
      " 1.         0.98544799 0.9834997  0.09308479 0.10544799 0.09876127\n",
      " 0.07345761 0.07365003 0.05407096 0.06489477 0.0556825  0.05209862\n",
      " 0.06016837 0.06061335 0.0524113  0.04810583 0.03968731 0.04748046\n",
      " 0.05164161 0.04036079 0.04300661 0.0527721  0.05921828 0.05712568\n",
      " 0.06126278 0.06361996 0.05455201 0.06292243 0.05488876 0.05950692\n",
      " 0.05924233 0.06405292 0.08192423 0.07398677 0.07420325 0.07304871\n",
      " 0.06898376 0.06167168 0.06535177 0.06381239 0.06111846 0.0594107\n",
      " 0.03919309 0.03803672 0.0355174  0.0323243  0.02909302 0.02622699\n",
      " 0.02390753 0.0221875  0.02102927 0.0203576 ]\n",
      "10 day output [[0.0200841]]\n",
      "11 day input [0.62388455 0.64589296 0.6643175  0.64875526 0.66025256 0.63328924\n",
      " 0.65289236 0.66015634 0.65849669 0.65849669 0.68192423 0.6791341\n",
      " 0.70001203 0.7039567  0.70556825 0.70131088 0.71651233 0.72293446\n",
      " 0.711365   0.70948888 0.72901984 0.71595911 0.71858088 0.67598316\n",
      " 0.67377029 0.69488876 0.67990379 0.69710162 0.70816597 0.80505111\n",
      " 0.83081179 0.83781118 0.8416356  0.87858088 0.85173782 0.86727601\n",
      " 0.83502105 0.86999399 0.88923632 0.88825015 0.8853638  0.89455201\n",
      " 0.89594708 0.92064943 0.97929044 0.99360192 0.98366807 1.\n",
      " 0.98544799 0.9834997  0.09308479 0.10544799 0.09876127 0.07345761\n",
      " 0.07365003 0.05407096 0.06489477 0.0556825  0.05209862 0.06016837\n",
      " 0.06061335 0.0524113  0.04810583 0.03968731 0.04748046 0.05164161\n",
      " 0.04036079 0.04300661 0.0527721  0.05921828 0.05712568 0.06126278\n",
      " 0.06361996 0.05455201 0.06292243 0.05488876 0.05950692 0.05924233\n",
      " 0.06405292 0.08192423 0.07398677 0.07420325 0.07304871 0.06898376\n",
      " 0.06167168 0.06535177 0.06381239 0.06111846 0.0594107  0.03919309\n",
      " 0.03803672 0.0355174  0.0323243  0.02909302 0.02622699 0.02390753\n",
      " 0.0221875  0.02102927 0.0203576  0.0200841 ]\n",
      "11 day output [[0.02012192]]\n",
      "12 day input [0.64589296 0.6643175  0.64875526 0.66025256 0.63328924 0.65289236\n",
      " 0.66015634 0.65849669 0.65849669 0.68192423 0.6791341  0.70001203\n",
      " 0.7039567  0.70556825 0.70131088 0.71651233 0.72293446 0.711365\n",
      " 0.70948888 0.72901984 0.71595911 0.71858088 0.67598316 0.67377029\n",
      " 0.69488876 0.67990379 0.69710162 0.70816597 0.80505111 0.83081179\n",
      " 0.83781118 0.8416356  0.87858088 0.85173782 0.86727601 0.83502105\n",
      " 0.86999399 0.88923632 0.88825015 0.8853638  0.89455201 0.89594708\n",
      " 0.92064943 0.97929044 0.99360192 0.98366807 1.         0.98544799\n",
      " 0.9834997  0.09308479 0.10544799 0.09876127 0.07345761 0.07365003\n",
      " 0.05407096 0.06489477 0.0556825  0.05209862 0.06016837 0.06061335\n",
      " 0.0524113  0.04810583 0.03968731 0.04748046 0.05164161 0.04036079\n",
      " 0.04300661 0.0527721  0.05921828 0.05712568 0.06126278 0.06361996\n",
      " 0.05455201 0.06292243 0.05488876 0.05950692 0.05924233 0.06405292\n",
      " 0.08192423 0.07398677 0.07420325 0.07304871 0.06898376 0.06167168\n",
      " 0.06535177 0.06381239 0.06111846 0.0594107  0.03919309 0.03803672\n",
      " 0.0355174  0.0323243  0.02909302 0.02622699 0.02390753 0.0221875\n",
      " 0.02102927 0.0203576  0.0200841  0.02012192]\n",
      "12 day output [[0.02039123]]\n",
      "13 day input [0.6643175  0.64875526 0.66025256 0.63328924 0.65289236 0.66015634\n",
      " 0.65849669 0.65849669 0.68192423 0.6791341  0.70001203 0.7039567\n",
      " 0.70556825 0.70131088 0.71651233 0.72293446 0.711365   0.70948888\n",
      " 0.72901984 0.71595911 0.71858088 0.67598316 0.67377029 0.69488876\n",
      " 0.67990379 0.69710162 0.70816597 0.80505111 0.83081179 0.83781118\n",
      " 0.8416356  0.87858088 0.85173782 0.86727601 0.83502105 0.86999399\n",
      " 0.88923632 0.88825015 0.8853638  0.89455201 0.89594708 0.92064943\n",
      " 0.97929044 0.99360192 0.98366807 1.         0.98544799 0.9834997\n",
      " 0.09308479 0.10544799 0.09876127 0.07345761 0.07365003 0.05407096\n",
      " 0.06489477 0.0556825  0.05209862 0.06016837 0.06061335 0.0524113\n",
      " 0.04810583 0.03968731 0.04748046 0.05164161 0.04036079 0.04300661\n",
      " 0.0527721  0.05921828 0.05712568 0.06126278 0.06361996 0.05455201\n",
      " 0.06292243 0.05488876 0.05950692 0.05924233 0.06405292 0.08192423\n",
      " 0.07398677 0.07420325 0.07304871 0.06898376 0.06167168 0.06535177\n",
      " 0.06381239 0.06111846 0.0594107  0.03919309 0.03803672 0.0355174\n",
      " 0.0323243  0.02909302 0.02622699 0.02390753 0.0221875  0.02102927\n",
      " 0.0203576  0.0200841  0.02012192 0.02039123]\n",
      "13 day output [[0.02081947]]\n",
      "14 day input [0.64875526 0.66025256 0.63328924 0.65289236 0.66015634 0.65849669\n",
      " 0.65849669 0.68192423 0.6791341  0.70001203 0.7039567  0.70556825\n",
      " 0.70131088 0.71651233 0.72293446 0.711365   0.70948888 0.72901984\n",
      " 0.71595911 0.71858088 0.67598316 0.67377029 0.69488876 0.67990379\n",
      " 0.69710162 0.70816597 0.80505111 0.83081179 0.83781118 0.8416356\n",
      " 0.87858088 0.85173782 0.86727601 0.83502105 0.86999399 0.88923632\n",
      " 0.88825015 0.8853638  0.89455201 0.89594708 0.92064943 0.97929044\n",
      " 0.99360192 0.98366807 1.         0.98544799 0.9834997  0.09308479\n",
      " 0.10544799 0.09876127 0.07345761 0.07365003 0.05407096 0.06489477\n",
      " 0.0556825  0.05209862 0.06016837 0.06061335 0.0524113  0.04810583\n",
      " 0.03968731 0.04748046 0.05164161 0.04036079 0.04300661 0.0527721\n",
      " 0.05921828 0.05712568 0.06126278 0.06361996 0.05455201 0.06292243\n",
      " 0.05488876 0.05950692 0.05924233 0.06405292 0.08192423 0.07398677\n",
      " 0.07420325 0.07304871 0.06898376 0.06167168 0.06535177 0.06381239\n",
      " 0.06111846 0.0594107  0.03919309 0.03803672 0.0355174  0.0323243\n",
      " 0.02909302 0.02622699 0.02390753 0.0221875  0.02102927 0.0203576\n",
      " 0.0200841  0.02012192 0.02039123 0.02081947]\n",
      "14 day output [[0.02134141]]\n",
      "15 day input [0.66025256 0.63328924 0.65289236 0.66015634 0.65849669 0.65849669\n",
      " 0.68192423 0.6791341  0.70001203 0.7039567  0.70556825 0.70131088\n",
      " 0.71651233 0.72293446 0.711365   0.70948888 0.72901984 0.71595911\n",
      " 0.71858088 0.67598316 0.67377029 0.69488876 0.67990379 0.69710162\n",
      " 0.70816597 0.80505111 0.83081179 0.83781118 0.8416356  0.87858088\n",
      " 0.85173782 0.86727601 0.83502105 0.86999399 0.88923632 0.88825015\n",
      " 0.8853638  0.89455201 0.89594708 0.92064943 0.97929044 0.99360192\n",
      " 0.98366807 1.         0.98544799 0.9834997  0.09308479 0.10544799\n",
      " 0.09876127 0.07345761 0.07365003 0.05407096 0.06489477 0.0556825\n",
      " 0.05209862 0.06016837 0.06061335 0.0524113  0.04810583 0.03968731\n",
      " 0.04748046 0.05164161 0.04036079 0.04300661 0.0527721  0.05921828\n",
      " 0.05712568 0.06126278 0.06361996 0.05455201 0.06292243 0.05488876\n",
      " 0.05950692 0.05924233 0.06405292 0.08192423 0.07398677 0.07420325\n",
      " 0.07304871 0.06898376 0.06167168 0.06535177 0.06381239 0.06111846\n",
      " 0.0594107  0.03919309 0.03803672 0.0355174  0.0323243  0.02909302\n",
      " 0.02622699 0.02390753 0.0221875  0.02102927 0.0203576  0.0200841\n",
      " 0.02012192 0.02039123 0.02081947 0.02134141]\n",
      "15 day output [[0.02189881]]\n",
      "16 day input [0.63328924 0.65289236 0.66015634 0.65849669 0.65849669 0.68192423\n",
      " 0.6791341  0.70001203 0.7039567  0.70556825 0.70131088 0.71651233\n",
      " 0.72293446 0.711365   0.70948888 0.72901984 0.71595911 0.71858088\n",
      " 0.67598316 0.67377029 0.69488876 0.67990379 0.69710162 0.70816597\n",
      " 0.80505111 0.83081179 0.83781118 0.8416356  0.87858088 0.85173782\n",
      " 0.86727601 0.83502105 0.86999399 0.88923632 0.88825015 0.8853638\n",
      " 0.89455201 0.89594708 0.92064943 0.97929044 0.99360192 0.98366807\n",
      " 1.         0.98544799 0.9834997  0.09308479 0.10544799 0.09876127\n",
      " 0.07345761 0.07365003 0.05407096 0.06489477 0.0556825  0.05209862\n",
      " 0.06016837 0.06061335 0.0524113  0.04810583 0.03968731 0.04748046\n",
      " 0.05164161 0.04036079 0.04300661 0.0527721  0.05921828 0.05712568\n",
      " 0.06126278 0.06361996 0.05455201 0.06292243 0.05488876 0.05950692\n",
      " 0.05924233 0.06405292 0.08192423 0.07398677 0.07420325 0.07304871\n",
      " 0.06898376 0.06167168 0.06535177 0.06381239 0.06111846 0.0594107\n",
      " 0.03919309 0.03803672 0.0355174  0.0323243  0.02909302 0.02622699\n",
      " 0.02390753 0.0221875  0.02102927 0.0203576  0.0200841  0.02012192\n",
      " 0.02039123 0.02081947 0.02134141 0.02189881]\n"
     ]
    },
    {
     "name": "stdout",
     "output_type": "stream",
     "text": [
      "16 day output [[0.02244678]]\n",
      "17 day input [0.65289236 0.66015634 0.65849669 0.65849669 0.68192423 0.6791341\n",
      " 0.70001203 0.7039567  0.70556825 0.70131088 0.71651233 0.72293446\n",
      " 0.711365   0.70948888 0.72901984 0.71595911 0.71858088 0.67598316\n",
      " 0.67377029 0.69488876 0.67990379 0.69710162 0.70816597 0.80505111\n",
      " 0.83081179 0.83781118 0.8416356  0.87858088 0.85173782 0.86727601\n",
      " 0.83502105 0.86999399 0.88923632 0.88825015 0.8853638  0.89455201\n",
      " 0.89594708 0.92064943 0.97929044 0.99360192 0.98366807 1.\n",
      " 0.98544799 0.9834997  0.09308479 0.10544799 0.09876127 0.07345761\n",
      " 0.07365003 0.05407096 0.06489477 0.0556825  0.05209862 0.06016837\n",
      " 0.06061335 0.0524113  0.04810583 0.03968731 0.04748046 0.05164161\n",
      " 0.04036079 0.04300661 0.0527721  0.05921828 0.05712568 0.06126278\n",
      " 0.06361996 0.05455201 0.06292243 0.05488876 0.05950692 0.05924233\n",
      " 0.06405292 0.08192423 0.07398677 0.07420325 0.07304871 0.06898376\n",
      " 0.06167168 0.06535177 0.06381239 0.06111846 0.0594107  0.03919309\n",
      " 0.03803672 0.0355174  0.0323243  0.02909302 0.02622699 0.02390753\n",
      " 0.0221875  0.02102927 0.0203576  0.0200841  0.02012192 0.02039123\n",
      " 0.02081947 0.02134141 0.02189881 0.02244678]\n",
      "17 day output [[0.02294721]]\n",
      "18 day input [0.66015634 0.65849669 0.65849669 0.68192423 0.6791341  0.70001203\n",
      " 0.7039567  0.70556825 0.70131088 0.71651233 0.72293446 0.711365\n",
      " 0.70948888 0.72901984 0.71595911 0.71858088 0.67598316 0.67377029\n",
      " 0.69488876 0.67990379 0.69710162 0.70816597 0.80505111 0.83081179\n",
      " 0.83781118 0.8416356  0.87858088 0.85173782 0.86727601 0.83502105\n",
      " 0.86999399 0.88923632 0.88825015 0.8853638  0.89455201 0.89594708\n",
      " 0.92064943 0.97929044 0.99360192 0.98366807 1.         0.98544799\n",
      " 0.9834997  0.09308479 0.10544799 0.09876127 0.07345761 0.07365003\n",
      " 0.05407096 0.06489477 0.0556825  0.05209862 0.06016837 0.06061335\n",
      " 0.0524113  0.04810583 0.03968731 0.04748046 0.05164161 0.04036079\n",
      " 0.04300661 0.0527721  0.05921828 0.05712568 0.06126278 0.06361996\n",
      " 0.05455201 0.06292243 0.05488876 0.05950692 0.05924233 0.06405292\n",
      " 0.08192423 0.07398677 0.07420325 0.07304871 0.06898376 0.06167168\n",
      " 0.06535177 0.06381239 0.06111846 0.0594107  0.03919309 0.03803672\n",
      " 0.0355174  0.0323243  0.02909302 0.02622699 0.02390753 0.0221875\n",
      " 0.02102927 0.0203576  0.0200841  0.02012192 0.02039123 0.02081947\n",
      " 0.02134141 0.02189881 0.02244678 0.02294721]\n",
      "18 day output [[0.02337442]]\n",
      "19 day input [0.65849669 0.65849669 0.68192423 0.6791341  0.70001203 0.7039567\n",
      " 0.70556825 0.70131088 0.71651233 0.72293446 0.711365   0.70948888\n",
      " 0.72901984 0.71595911 0.71858088 0.67598316 0.67377029 0.69488876\n",
      " 0.67990379 0.69710162 0.70816597 0.80505111 0.83081179 0.83781118\n",
      " 0.8416356  0.87858088 0.85173782 0.86727601 0.83502105 0.86999399\n",
      " 0.88923632 0.88825015 0.8853638  0.89455201 0.89594708 0.92064943\n",
      " 0.97929044 0.99360192 0.98366807 1.         0.98544799 0.9834997\n",
      " 0.09308479 0.10544799 0.09876127 0.07345761 0.07365003 0.05407096\n",
      " 0.06489477 0.0556825  0.05209862 0.06016837 0.06061335 0.0524113\n",
      " 0.04810583 0.03968731 0.04748046 0.05164161 0.04036079 0.04300661\n",
      " 0.0527721  0.05921828 0.05712568 0.06126278 0.06361996 0.05455201\n",
      " 0.06292243 0.05488876 0.05950692 0.05924233 0.06405292 0.08192423\n",
      " 0.07398677 0.07420325 0.07304871 0.06898376 0.06167168 0.06535177\n",
      " 0.06381239 0.06111846 0.0594107  0.03919309 0.03803672 0.0355174\n",
      " 0.0323243  0.02909302 0.02622699 0.02390753 0.0221875  0.02102927\n",
      " 0.0203576  0.0200841  0.02012192 0.02039123 0.02081947 0.02134141\n",
      " 0.02189881 0.02244678 0.02294721 0.02337442]\n",
      "19 day output [[0.02370957]]\n",
      "20 day input [0.65849669 0.68192423 0.6791341  0.70001203 0.7039567  0.70556825\n",
      " 0.70131088 0.71651233 0.72293446 0.711365   0.70948888 0.72901984\n",
      " 0.71595911 0.71858088 0.67598316 0.67377029 0.69488876 0.67990379\n",
      " 0.69710162 0.70816597 0.80505111 0.83081179 0.83781118 0.8416356\n",
      " 0.87858088 0.85173782 0.86727601 0.83502105 0.86999399 0.88923632\n",
      " 0.88825015 0.8853638  0.89455201 0.89594708 0.92064943 0.97929044\n",
      " 0.99360192 0.98366807 1.         0.98544799 0.9834997  0.09308479\n",
      " 0.10544799 0.09876127 0.07345761 0.07365003 0.05407096 0.06489477\n",
      " 0.0556825  0.05209862 0.06016837 0.06061335 0.0524113  0.04810583\n",
      " 0.03968731 0.04748046 0.05164161 0.04036079 0.04300661 0.0527721\n",
      " 0.05921828 0.05712568 0.06126278 0.06361996 0.05455201 0.06292243\n",
      " 0.05488876 0.05950692 0.05924233 0.06405292 0.08192423 0.07398677\n",
      " 0.07420325 0.07304871 0.06898376 0.06167168 0.06535177 0.06381239\n",
      " 0.06111846 0.0594107  0.03919309 0.03803672 0.0355174  0.0323243\n",
      " 0.02909302 0.02622699 0.02390753 0.0221875  0.02102927 0.0203576\n",
      " 0.0200841  0.02012192 0.02039123 0.02081947 0.02134141 0.02189881\n",
      " 0.02244678 0.02294721 0.02337442 0.02370957]\n",
      "20 day output [[0.02394251]]\n",
      "21 day input [0.68192423 0.6791341  0.70001203 0.7039567  0.70556825 0.70131088\n",
      " 0.71651233 0.72293446 0.711365   0.70948888 0.72901984 0.71595911\n",
      " 0.71858088 0.67598316 0.67377029 0.69488876 0.67990379 0.69710162\n",
      " 0.70816597 0.80505111 0.83081179 0.83781118 0.8416356  0.87858088\n",
      " 0.85173782 0.86727601 0.83502105 0.86999399 0.88923632 0.88825015\n",
      " 0.8853638  0.89455201 0.89594708 0.92064943 0.97929044 0.99360192\n",
      " 0.98366807 1.         0.98544799 0.9834997  0.09308479 0.10544799\n",
      " 0.09876127 0.07345761 0.07365003 0.05407096 0.06489477 0.0556825\n",
      " 0.05209862 0.06016837 0.06061335 0.0524113  0.04810583 0.03968731\n",
      " 0.04748046 0.05164161 0.04036079 0.04300661 0.0527721  0.05921828\n",
      " 0.05712568 0.06126278 0.06361996 0.05455201 0.06292243 0.05488876\n",
      " 0.05950692 0.05924233 0.06405292 0.08192423 0.07398677 0.07420325\n",
      " 0.07304871 0.06898376 0.06167168 0.06535177 0.06381239 0.06111846\n",
      " 0.0594107  0.03919309 0.03803672 0.0355174  0.0323243  0.02909302\n",
      " 0.02622699 0.02390753 0.0221875  0.02102927 0.0203576  0.0200841\n",
      " 0.02012192 0.02039123 0.02081947 0.02134141 0.02189881 0.02244678\n",
      " 0.02294721 0.02337442 0.02370957 0.02394251]\n",
      "21 day output [[0.02407059]]\n",
      "22 day input [0.6791341  0.70001203 0.7039567  0.70556825 0.70131088 0.71651233\n",
      " 0.72293446 0.711365   0.70948888 0.72901984 0.71595911 0.71858088\n",
      " 0.67598316 0.67377029 0.69488876 0.67990379 0.69710162 0.70816597\n",
      " 0.80505111 0.83081179 0.83781118 0.8416356  0.87858088 0.85173782\n",
      " 0.86727601 0.83502105 0.86999399 0.88923632 0.88825015 0.8853638\n",
      " 0.89455201 0.89594708 0.92064943 0.97929044 0.99360192 0.98366807\n",
      " 1.         0.98544799 0.9834997  0.09308479 0.10544799 0.09876127\n",
      " 0.07345761 0.07365003 0.05407096 0.06489477 0.0556825  0.05209862\n",
      " 0.06016837 0.06061335 0.0524113  0.04810583 0.03968731 0.04748046\n",
      " 0.05164161 0.04036079 0.04300661 0.0527721  0.05921828 0.05712568\n",
      " 0.06126278 0.06361996 0.05455201 0.06292243 0.05488876 0.05950692\n",
      " 0.05924233 0.06405292 0.08192423 0.07398677 0.07420325 0.07304871\n",
      " 0.06898376 0.06167168 0.06535177 0.06381239 0.06111846 0.0594107\n",
      " 0.03919309 0.03803672 0.0355174  0.0323243  0.02909302 0.02622699\n",
      " 0.02390753 0.0221875  0.02102927 0.0203576  0.0200841  0.02012192\n",
      " 0.02039123 0.02081947 0.02134141 0.02189881 0.02244678 0.02294721\n",
      " 0.02337442 0.02370957 0.02394251 0.02407059]\n",
      "22 day output [[0.02409763]]\n",
      "23 day input [0.70001203 0.7039567  0.70556825 0.70131088 0.71651233 0.72293446\n",
      " 0.711365   0.70948888 0.72901984 0.71595911 0.71858088 0.67598316\n",
      " 0.67377029 0.69488876 0.67990379 0.69710162 0.70816597 0.80505111\n",
      " 0.83081179 0.83781118 0.8416356  0.87858088 0.85173782 0.86727601\n",
      " 0.83502105 0.86999399 0.88923632 0.88825015 0.8853638  0.89455201\n",
      " 0.89594708 0.92064943 0.97929044 0.99360192 0.98366807 1.\n",
      " 0.98544799 0.9834997  0.09308479 0.10544799 0.09876127 0.07345761\n",
      " 0.07365003 0.05407096 0.06489477 0.0556825  0.05209862 0.06016837\n",
      " 0.06061335 0.0524113  0.04810583 0.03968731 0.04748046 0.05164161\n",
      " 0.04036079 0.04300661 0.0527721  0.05921828 0.05712568 0.06126278\n",
      " 0.06361996 0.05455201 0.06292243 0.05488876 0.05950692 0.05924233\n",
      " 0.06405292 0.08192423 0.07398677 0.07420325 0.07304871 0.06898376\n",
      " 0.06167168 0.06535177 0.06381239 0.06111846 0.0594107  0.03919309\n",
      " 0.03803672 0.0355174  0.0323243  0.02909302 0.02622699 0.02390753\n",
      " 0.0221875  0.02102927 0.0203576  0.0200841  0.02012192 0.02039123\n",
      " 0.02081947 0.02134141 0.02189881 0.02244678 0.02294721 0.02337442\n",
      " 0.02370957 0.02394251 0.02407059 0.02409763]\n",
      "23 day output [[0.0240311]]\n",
      "24 day input [0.7039567  0.70556825 0.70131088 0.71651233 0.72293446 0.711365\n",
      " 0.70948888 0.72901984 0.71595911 0.71858088 0.67598316 0.67377029\n",
      " 0.69488876 0.67990379 0.69710162 0.70816597 0.80505111 0.83081179\n",
      " 0.83781118 0.8416356  0.87858088 0.85173782 0.86727601 0.83502105\n",
      " 0.86999399 0.88923632 0.88825015 0.8853638  0.89455201 0.89594708\n",
      " 0.92064943 0.97929044 0.99360192 0.98366807 1.         0.98544799\n",
      " 0.9834997  0.09308479 0.10544799 0.09876127 0.07345761 0.07365003\n",
      " 0.05407096 0.06489477 0.0556825  0.05209862 0.06016837 0.06061335\n",
      " 0.0524113  0.04810583 0.03968731 0.04748046 0.05164161 0.04036079\n",
      " 0.04300661 0.0527721  0.05921828 0.05712568 0.06126278 0.06361996\n",
      " 0.05455201 0.06292243 0.05488876 0.05950692 0.05924233 0.06405292\n",
      " 0.08192423 0.07398677 0.07420325 0.07304871 0.06898376 0.06167168\n",
      " 0.06535177 0.06381239 0.06111846 0.0594107  0.03919309 0.03803672\n",
      " 0.0355174  0.0323243  0.02909302 0.02622699 0.02390753 0.0221875\n",
      " 0.02102927 0.0203576  0.0200841  0.02012192 0.02039123 0.02081947\n",
      " 0.02134141 0.02189881 0.02244678 0.02294721 0.02337442 0.02370957\n",
      " 0.02394251 0.02407059 0.02409763 0.0240311 ]\n"
     ]
    },
    {
     "name": "stdout",
     "output_type": "stream",
     "text": [
      "24 day output [[0.02388303]]\n",
      "25 day input [0.70556825 0.70131088 0.71651233 0.72293446 0.711365   0.70948888\n",
      " 0.72901984 0.71595911 0.71858088 0.67598316 0.67377029 0.69488876\n",
      " 0.67990379 0.69710162 0.70816597 0.80505111 0.83081179 0.83781118\n",
      " 0.8416356  0.87858088 0.85173782 0.86727601 0.83502105 0.86999399\n",
      " 0.88923632 0.88825015 0.8853638  0.89455201 0.89594708 0.92064943\n",
      " 0.97929044 0.99360192 0.98366807 1.         0.98544799 0.9834997\n",
      " 0.09308479 0.10544799 0.09876127 0.07345761 0.07365003 0.05407096\n",
      " 0.06489477 0.0556825  0.05209862 0.06016837 0.06061335 0.0524113\n",
      " 0.04810583 0.03968731 0.04748046 0.05164161 0.04036079 0.04300661\n",
      " 0.0527721  0.05921828 0.05712568 0.06126278 0.06361996 0.05455201\n",
      " 0.06292243 0.05488876 0.05950692 0.05924233 0.06405292 0.08192423\n",
      " 0.07398677 0.07420325 0.07304871 0.06898376 0.06167168 0.06535177\n",
      " 0.06381239 0.06111846 0.0594107  0.03919309 0.03803672 0.0355174\n",
      " 0.0323243  0.02909302 0.02622699 0.02390753 0.0221875  0.02102927\n",
      " 0.0203576  0.0200841  0.02012192 0.02039123 0.02081947 0.02134141\n",
      " 0.02189881 0.02244678 0.02294721 0.02337442 0.02370957 0.02394251\n",
      " 0.02407059 0.02409763 0.0240311  0.02388303]\n",
      "25 day output [[0.02366691]]\n",
      "26 day input [0.70131088 0.71651233 0.72293446 0.711365   0.70948888 0.72901984\n",
      " 0.71595911 0.71858088 0.67598316 0.67377029 0.69488876 0.67990379\n",
      " 0.69710162 0.70816597 0.80505111 0.83081179 0.83781118 0.8416356\n",
      " 0.87858088 0.85173782 0.86727601 0.83502105 0.86999399 0.88923632\n",
      " 0.88825015 0.8853638  0.89455201 0.89594708 0.92064943 0.97929044\n",
      " 0.99360192 0.98366807 1.         0.98544799 0.9834997  0.09308479\n",
      " 0.10544799 0.09876127 0.07345761 0.07365003 0.05407096 0.06489477\n",
      " 0.0556825  0.05209862 0.06016837 0.06061335 0.0524113  0.04810583\n",
      " 0.03968731 0.04748046 0.05164161 0.04036079 0.04300661 0.0527721\n",
      " 0.05921828 0.05712568 0.06126278 0.06361996 0.05455201 0.06292243\n",
      " 0.05488876 0.05950692 0.05924233 0.06405292 0.08192423 0.07398677\n",
      " 0.07420325 0.07304871 0.06898376 0.06167168 0.06535177 0.06381239\n",
      " 0.06111846 0.0594107  0.03919309 0.03803672 0.0355174  0.0323243\n",
      " 0.02909302 0.02622699 0.02390753 0.0221875  0.02102927 0.0203576\n",
      " 0.0200841  0.02012192 0.02039123 0.02081947 0.02134141 0.02189881\n",
      " 0.02244678 0.02294721 0.02337442 0.02370957 0.02394251 0.02407059\n",
      " 0.02409763 0.0240311  0.02388303 0.02366691]\n",
      "26 day output [[0.02339767]]\n",
      "27 day input [0.71651233 0.72293446 0.711365   0.70948888 0.72901984 0.71595911\n",
      " 0.71858088 0.67598316 0.67377029 0.69488876 0.67990379 0.69710162\n",
      " 0.70816597 0.80505111 0.83081179 0.83781118 0.8416356  0.87858088\n",
      " 0.85173782 0.86727601 0.83502105 0.86999399 0.88923632 0.88825015\n",
      " 0.8853638  0.89455201 0.89594708 0.92064943 0.97929044 0.99360192\n",
      " 0.98366807 1.         0.98544799 0.9834997  0.09308479 0.10544799\n",
      " 0.09876127 0.07345761 0.07365003 0.05407096 0.06489477 0.0556825\n",
      " 0.05209862 0.06016837 0.06061335 0.0524113  0.04810583 0.03968731\n",
      " 0.04748046 0.05164161 0.04036079 0.04300661 0.0527721  0.05921828\n",
      " 0.05712568 0.06126278 0.06361996 0.05455201 0.06292243 0.05488876\n",
      " 0.05950692 0.05924233 0.06405292 0.08192423 0.07398677 0.07420325\n",
      " 0.07304871 0.06898376 0.06167168 0.06535177 0.06381239 0.06111846\n",
      " 0.0594107  0.03919309 0.03803672 0.0355174  0.0323243  0.02909302\n",
      " 0.02622699 0.02390753 0.0221875  0.02102927 0.0203576  0.0200841\n",
      " 0.02012192 0.02039123 0.02081947 0.02134141 0.02189881 0.02244678\n",
      " 0.02294721 0.02337442 0.02370957 0.02394251 0.02407059 0.02409763\n",
      " 0.0240311  0.02388303 0.02366691 0.02339767]\n",
      "27 day output [[0.02309013]]\n",
      "28 day input [0.72293446 0.711365   0.70948888 0.72901984 0.71595911 0.71858088\n",
      " 0.67598316 0.67377029 0.69488876 0.67990379 0.69710162 0.70816597\n",
      " 0.80505111 0.83081179 0.83781118 0.8416356  0.87858088 0.85173782\n",
      " 0.86727601 0.83502105 0.86999399 0.88923632 0.88825015 0.8853638\n",
      " 0.89455201 0.89594708 0.92064943 0.97929044 0.99360192 0.98366807\n",
      " 1.         0.98544799 0.9834997  0.09308479 0.10544799 0.09876127\n",
      " 0.07345761 0.07365003 0.05407096 0.06489477 0.0556825  0.05209862\n",
      " 0.06016837 0.06061335 0.0524113  0.04810583 0.03968731 0.04748046\n",
      " 0.05164161 0.04036079 0.04300661 0.0527721  0.05921828 0.05712568\n",
      " 0.06126278 0.06361996 0.05455201 0.06292243 0.05488876 0.05950692\n",
      " 0.05924233 0.06405292 0.08192423 0.07398677 0.07420325 0.07304871\n",
      " 0.06898376 0.06167168 0.06535177 0.06381239 0.06111846 0.0594107\n",
      " 0.03919309 0.03803672 0.0355174  0.0323243  0.02909302 0.02622699\n",
      " 0.02390753 0.0221875  0.02102927 0.0203576  0.0200841  0.02012192\n",
      " 0.02039123 0.02081947 0.02134141 0.02189881 0.02244678 0.02294721\n",
      " 0.02337442 0.02370957 0.02394251 0.02407059 0.02409763 0.0240311\n",
      " 0.02388303 0.02366691 0.02339767 0.02309013]\n",
      "28 day output [[0.02275871]]\n",
      "29 day input [0.711365   0.70948888 0.72901984 0.71595911 0.71858088 0.67598316\n",
      " 0.67377029 0.69488876 0.67990379 0.69710162 0.70816597 0.80505111\n",
      " 0.83081179 0.83781118 0.8416356  0.87858088 0.85173782 0.86727601\n",
      " 0.83502105 0.86999399 0.88923632 0.88825015 0.8853638  0.89455201\n",
      " 0.89594708 0.92064943 0.97929044 0.99360192 0.98366807 1.\n",
      " 0.98544799 0.9834997  0.09308479 0.10544799 0.09876127 0.07345761\n",
      " 0.07365003 0.05407096 0.06489477 0.0556825  0.05209862 0.06016837\n",
      " 0.06061335 0.0524113  0.04810583 0.03968731 0.04748046 0.05164161\n",
      " 0.04036079 0.04300661 0.0527721  0.05921828 0.05712568 0.06126278\n",
      " 0.06361996 0.05455201 0.06292243 0.05488876 0.05950692 0.05924233\n",
      " 0.06405292 0.08192423 0.07398677 0.07420325 0.07304871 0.06898376\n",
      " 0.06167168 0.06535177 0.06381239 0.06111846 0.0594107  0.03919309\n",
      " 0.03803672 0.0355174  0.0323243  0.02909302 0.02622699 0.02390753\n",
      " 0.0221875  0.02102927 0.0203576  0.0200841  0.02012192 0.02039123\n",
      " 0.02081947 0.02134141 0.02189881 0.02244678 0.02294721 0.02337442\n",
      " 0.02370957 0.02394251 0.02407059 0.02409763 0.0240311  0.02388303\n",
      " 0.02366691 0.02339767 0.02309013 0.02275871]\n",
      "29 day output [[0.02241624]]\n",
      "[[0.03919309377670288], [0.03803671523928642], [0.03551740199327469], [0.032324302941560745], [0.029093021526932716], [0.026226989924907684], [0.023907525464892387], [0.022187495604157448], [0.02102927304804325], [0.020357603207230568], [0.02008409984409809], [0.020121915265917778], [0.020391227677464485], [0.020819466561079025], [0.021341407671570778], [0.02189880982041359], [0.022446781396865845], [0.022947214543819427], [0.023374415934085846], [0.023709570989012718], [0.023942509666085243], [0.024070588871836662], [0.024097630754113197], [0.024031098932027817], [0.02388303168118], [0.02366691455245018], [0.023397672921419144], [0.023090125992894173], [0.022758712992072105], [0.022416241466999054]]\n"
     ]
    }
   ],
   "source": [
    "lst_output=[]\n",
    "n_steps=100\n",
    "i=0\n",
    "while(i<30):\n",
    "    \n",
    "    if(len(temp_input)>100):\n",
    "        #print(temp_input)\n",
    "        x_input=np.array(temp_input[1:])\n",
    "        print(\"{} day input {}\".format(i,x_input))\n",
    "        x_input=x_input.reshape(1,-1)\n",
    "        x_input = x_input.reshape((1, n_steps, 1))\n",
    "        #print(x_input)\n",
    "        yhat = model.predict(x_input, verbose=0)\n",
    "        print(\"{} day output {}\".format(i,yhat))\n",
    "        temp_input.extend(yhat[0].tolist())\n",
    "        temp_input=temp_input[1:]\n",
    "        #print(temp_input)\n",
    "        lst_output.extend(yhat.tolist())\n",
    "        i=i+1\n",
    "    else:\n",
    "        x_input = x_input.reshape((1, n_steps,1))\n",
    "        yhat = model.predict(x_input, verbose=0)\n",
    "        print(yhat[0])\n",
    "        temp_input.extend(yhat[0].tolist())\n",
    "        print(len(temp_input))\n",
    "        lst_output.extend(yhat.tolist())\n",
    "        i=i+1\n",
    "    \n",
    "\n",
    "print(lst_output)"
   ]
  },
  {
   "cell_type": "code",
   "execution_count": 236,
   "metadata": {},
   "outputs": [],
   "source": [
    "## in above code first, length of temp_input is 100 so ELSE part is calculated, after that the IF part till the end. "
   ]
  },
  {
   "cell_type": "code",
   "execution_count": 237,
   "metadata": {},
   "outputs": [],
   "source": [
    "day_new=np.arange(1,101)\n",
    "day_pred=np.arange(101,131)"
   ]
  },
  {
   "cell_type": "code",
   "execution_count": 238,
   "metadata": {},
   "outputs": [],
   "source": [
    "import matplotlib.pyplot as plt"
   ]
  },
  {
   "cell_type": "code",
   "execution_count": 239,
   "metadata": {},
   "outputs": [
    {
     "data": {
      "text/plain": [
       "1257"
      ]
     },
     "execution_count": 239,
     "metadata": {},
     "output_type": "execute_result"
    }
   ],
   "source": [
    "len(df1)"
   ]
  },
  {
   "cell_type": "code",
   "execution_count": 240,
   "metadata": {},
   "outputs": [
    {
     "data": {
      "text/plain": [
       "[<matplotlib.lines.Line2D at 0x1c637cfcc48>]"
      ]
     },
     "execution_count": 240,
     "metadata": {},
     "output_type": "execute_result"
    },
    {
     "data": {
      "image/png": "[encoded data removed]",
      "text/plain": [
       "<Figure size 432x288 with 1 Axes>"
      ]
     },
     "metadata": {
      "needs_background": "light"
     },
     "output_type": "display_data"
    }
   ],
   "source": [
    "plt.plot(day_new,scaler.inverse_transform(df1[1157:]))\n",
    "plt.plot(day_pred,scaler.inverse_transform(lst_output))"
   ]
  },
  {
   "cell_type": "code",
   "execution_count": 241,
   "metadata": {},
   "outputs": [
    {
     "data": {
      "text/plain": [
       "[<matplotlib.lines.Line2D at 0x1c630ef06c8>]"
      ]
     },
     "execution_count": 241,
     "metadata": {},
     "output_type": "execute_result"
    },
    {
     "data": {
      "image/png": "[encoded data removed]",
      "text/plain": [
       "<Figure size 432x288 with 1 Axes>"
      ]
     },
     "metadata": {
      "needs_background": "light"
     },
     "output_type": "display_data"
    }
   ],
   "source": [
    "df3=df1.tolist()\n",
    "df3.extend(lst_output)  # adding all componenets odf lst_output\n",
    "plt.plot(df3[1200:])"
   ]
  },
  {
   "cell_type": "code",
   "execution_count": 242,
   "metadata": {},
   "outputs": [
    {
     "data": {
      "text/plain": [
       "[<matplotlib.lines.Line2D at 0x1c637d87e88>]"
      ]
     },
     "execution_count": 242,
     "metadata": {},
     "output_type": "execute_result"
    },
    {
     "data": {
      "image/png": "[encoded data removed]",
      "text/plain": [
       "<Figure size 432x288 with 1 Axes>"
      ]
     },
     "metadata": {
      "needs_background": "light"
     },
     "output_type": "display_data"
    }
   ],
   "source": [
    "df3=scaler.inverse_transform(df3).tolist()\n",
    "plt.plot(df3)"
   ]
  },
  {
   "cell_type": "code",
   "execution_count": 243,
   "metadata": {},
   "outputs": [],
   "source": [
    "from sklearn.metrics import roc_curve, auc"
   ]
  },
  {
   "cell_type": "code",
   "execution_count": 244,
   "metadata": {},
   "outputs": [
    {
     "data": {
      "text/plain": [
       "(339, 1)"
      ]
     },
     "execution_count": 244,
     "metadata": {},
     "output_type": "execute_result"
    }
   ],
   "source": [
    "y_troc = np.reshape(y_test,(-1,1))\n",
    "y_troc.shape"
   ]
  },
  {
   "cell_type": "code",
   "execution_count": 245,
   "metadata": {},
   "outputs": [
    {
     "data": {
      "text/plain": [
       "(339,)"
      ]
     },
     "execution_count": 245,
     "metadata": {},
     "output_type": "execute_result"
    }
   ],
   "source": [
    "y_troc.ravel().shape"
   ]
  },
  {
   "cell_type": "code",
   "execution_count": null,
   "metadata": {},
   "outputs": [],
   "source": []
  },
  {
   "cell_type": "code",
   "execution_count": 145,
   "metadata": {},
   "outputs": [
    {
     "data": {
      "text/plain": [
       "(225,)"
      ]
     },
     "execution_count": 145,
     "metadata": {},
     "output_type": "execute_result"
    }
   ],
   "source": [
    "y_test.ravel().shape"
   ]
  },
  {
   "cell_type": "code",
   "execution_count": 146,
   "metadata": {},
   "outputs": [
    {
     "data": {
      "text/plain": [
       "(225,)"
      ]
     },
     "execution_count": 146,
     "metadata": {},
     "output_type": "execute_result"
    }
   ],
   "source": [
    "y_score.ravel().shape"
   ]
  },
  {
   "cell_type": "code",
   "execution_count": null,
   "metadata": {},
   "outputs": [],
   "source": []
  }
 ],
 "metadata": {
  "kernelspec": {
   "display_name": "Python 3",
   "language": "python",
   "name": "python3"
  },
  "language_info": {
   "codemirror_mode": {
    "name": "ipython",
    "version": 3
   },
   "file_extension": ".py",
   "mimetype": "text/x-python",
   "name": "python",
   "nbconvert_exporter": "python",
   "pygments_lexer": "ipython3",
   "version": "3.8.4"
  }
 },
 "nbformat": 4,
 "nbformat_minor": 4
}
